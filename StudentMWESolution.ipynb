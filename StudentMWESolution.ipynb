{
 "cells": [
  {
   "cell_type": "code",
   "execution_count": 2,
   "metadata": {},
   "outputs": [],
   "source": [
    "from sympy import *\n",
    "import sympy\n",
    "import matplotlib.pyplot as mpl\n",
    "from IPython.display import display, Math, Latex\n",
    "import numpy as np\n",
    "from matplotlib import pyplot as plt\n",
    "init_printing()\n",
    "from IPython.display import Markdown as md\n"
   ]
  },
  {
   "cell_type": "code",
   "execution_count": 4,
   "metadata": {},
   "outputs": [],
   "source": [
    "# Student inputs\n",
    "lone = 1.2e3\n",
    "tone = 0.5\n",
    "ttwo = 1.0\n",
    "hone = 0.2e3\n",
    "vone = 120e3\n",
    "lims = [lone, pi, lone, hone]"
   ]
  },
  {
   "cell_type": "markdown",
   "metadata": {
    "slideshow": {
     "slide_type": "subslide"
    }
   },
   "source": [
    "# Introduction\n",
    "\n",
    "The problem assigned is for the thin-walled wing structure\n",
    "\n",
    "<img src=\"Fig1.png\" width=\"400\">\n",
    "\n",
    "where you have been given the pertinent geometries, and asked to find various sectional properties and how they change by breaking/removing members. \n",
    "\n",
    "## Question 1. Second moment of area determination\n",
    "The first part is to determine the second moment of area - the question does not specify *which* $I$ to determine but from the nature of the question it should be clear that the answer is for the $I_{xx}$. This can be determine for the three different sized members. Members 12 and 34 are trapezoids which will have equal contributions. After finding the expression for the second moment of area of a trapezoid (recall, we found this in class - I then showed that it was easily googlable), this is given by the parallel axis theorem\n",
    "\n",
    "$$I_{xx12}={\\frac{l\\left(t_1+t_2\\right)\\left(t_1^2+t_2^2\\right)}{48}}+\\frac{t_1+t_2}{2}l\\left(\\frac{h}{2}\\right)^2$$\n",
    "\n",
    "Which the left hand term is of order $t^3$ (hence *really* small), and thus can be neglected, giving:\n",
    "\n",
    "$$I_{xx12} = I_{xx34} = \\frac{t_1+t_2}{2}l\\left(\\frac{h}{2}\\right)^2$$\n",
    "\n",
    "The second moment of area of the semicircular section is identical to that from one of the homeworks - where $I_{xx}=\\frac{\\pi\\,r^3\\, t}{2}$. Since this members vertical centroid is at the same location as that of the body, there is no requirement to use the parallel axis theorem:\n",
    "\n",
    "$$I_{xx23} = \\frac{\\pi(\\frac{h}{2})^3t_1}{2}$$\n",
    "\n",
    "Finally, the last member is easy to solve:\n",
    "\n",
    "$$I_{xx41} = \\frac{t_2\\,h^3}{12}$$\n",
    "\n",
    "Putting it all together, and substituting in your values, we get the total second moment of area"
   ]
  },
  {
   "cell_type": "code",
   "execution_count": 5,
   "metadata": {
    "jupyter": {
     "source_hidden": true
    },
    "scrolled": true
   },
   "outputs": [
    {
     "data": {
      "text/latex": [
       "$\\displaystyle I_{xx}=h^{2} \\left(\\frac{h t_{1}}{12} + \\frac{\\pi h t_{1}}{16} + \\frac{l \\left(t_{1} + t_{2}\\right)}{4}\\right) = 1.9119 \\cdot 10^{7}(mm)^4 = 1.9119 \\cdot 10^{-5}m^4$"
      ],
      "text/plain": [
       "<IPython.core.display.Math object>"
      ]
     },
     "metadata": {},
     "output_type": "display_data"
    }
   ],
   "source": [
    "t_1, t_2, h, l, I_xx = symbols('t_1 t_2 h l I_{xx}')\n",
    "Ixx12 = (t_1 + t_2)/2*l*(h/2)**2\n",
    "Ixx34 = Ixx12;\n",
    "Ixx23 = (pi*(h/2)**3*t_1)/2;\n",
    "Ixx41 = (t_1*h**3)/12;\n",
    "\n",
    "pref = 'I_{xx}='\n",
    "Ixx = simplify(Ixx12 + Ixx23 + Ixx34 + Ixx41)\n",
    "Ixx2 = Ixx.subs({t_1: tone, t_2: ttwo, h: hone, l:lone})\n",
    "\n",
    "display(Math(pref + latex(Ixx) + ' = ' + latex((Ixx2.evalf(5))) + '(mm)^4 = '  + latex((Ixx2.evalf(5)/10**12)) + 'm^4'))\n"
   ]
  },
  {
   "cell_type": "code",
   "execution_count": null,
   "metadata": {},
   "outputs": [],
   "source": []
  }
 ],
 "metadata": {
  "kernelspec": {
   "display_name": "Python 3",
   "language": "python",
   "name": "python3"
  },
  "language_info": {
   "codemirror_mode": {
    "name": "ipython",
    "version": 3
   },
   "file_extension": ".py",
   "mimetype": "text/x-python",
   "name": "python",
   "nbconvert_exporter": "python",
   "pygments_lexer": "ipython3",
   "version": "3.7.4"
  }
 },
 "nbformat": 4,
 "nbformat_minor": 4
}
